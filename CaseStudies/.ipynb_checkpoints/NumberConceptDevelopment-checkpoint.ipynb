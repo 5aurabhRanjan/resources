{
 "cells": [
  {
   "cell_type": "code",
   "execution_count": 1,
   "metadata": {
    "collapsed": true
   },
   "outputs": [],
   "source": [
    "import pymc3 as pm\n",
    "import numpy as np\n",
    "import pandas as pd\n",
    "import matplotlib.pyplot as plt\n",
    "from matplotlib import gridspec\n",
    "from theano import tensor as T\n",
    "from scipy import stats\n",
    "%matplotlib inline"
   ]
  },
  {
   "cell_type": "markdown",
   "metadata": {},
   "source": [
    "# Chapter 19 - Number concept development\n",
    "\n",
    "## 19.1 Knower-level model for Give-N\n",
    "\n",
    "\n",
    "$$ \\pi \\sim \\text{Dirichlet}\\overbrace{(1,...,1)}^{15} $$\n",
    "$$ \\nu \\sim \\text{Uniform}(1,1000)$$\n",
    "$$ z_{i} \\sim \\text{Categorical}(\\frac{1}{6},...,\\frac{1}{6})$$  \n",
    "\n",
    "$$ \\pi^{\\prime}_{ijk} \\propto\n",
    "\\begin{cases}\n",
    "\\pi_k & \\text{if $k \\gt z_i$} \\\\\n",
    "\\nu \\times \\pi_{ijk} & \\text{if $k \\leq z_i$ and $k = q^g_{ij}$} \\\\\n",
    "\\frac{1}{\\nu} \\times \\pi_{ijk} & \\text{if $k \\leq z_i$ and $k \\neq q^g_{ij}$}\n",
    "\\end{cases}  $$  \n",
    "$$ a_{ij}^g \\sim \\text{Categorical}(\\pi^{\\prime}_{ij})$$"
   ]
  },
  {
   "cell_type": "code",
   "execution_count": 2,
   "metadata": {
    "collapsed": false
   },
   "outputs": [],
   "source": [
    "import scipy.io as sio\n",
    "matdata = sio.loadmat('data/fc_given.mat')\n",
    "\n",
    "ns = np.squeeze(np.int64(matdata['ns']))\n",
    "nz = np.squeeze(np.int64(matdata['nz']))\n",
    "gnq = np.squeeze(np.int64(matdata['gnq']))\n",
    "gn = np.squeeze(np.int64(matdata['gn']))\n",
    "ga = np.squeeze(np.int64(matdata['ga']))\n",
    "gq = np.squeeze(np.int64(matdata['gq']))\n",
    "\n",
    "ind1=np.zeros((nz,gn,gn))\n",
    "ind2=np.zeros((nz,gn,gn))\n",
    "ind3=np.zeros((nz,gn,gn))\n",
    "ind4=np.zeros((nz,gn,gn))\n",
    "ind5=np.zeros((nz,gn,gn),dtype=int)\n",
    "for i in range(nz):\n",
    "    for j in range(gn):\n",
    "        for k in range(gn):\n",
    "            # Will be 1 if Knower-Level (i.e, i-1) is Same or Greater than Answer\n",
    "            ind1[i,j,k] = np.greater_equal(i-1,k)\n",
    "            # Will be 1 for the Possible Answer that Matches the Question\n",
    "            ind2[i,j,k] = k==j\n",
    "            # Will be 1 for 0-Knowers\n",
    "            ind3[i,j,k] = i==0\n",
    "            # Will be 1 for HN-Knowers\n",
    "            ind4[i,j,k] = i==nz\n",
    "            ind5[i,j,k] = ind3[i,j,k]+ind4[i,j,k]*(2+ind2[i,j,k]) \n",
    "            + (1-ind4[i,j,k])*(1-ind3[i,j,k])* (ind1[i,j,k]+ind1[i,j,k]*ind2[i,j,k]+1)"
   ]
  },
  {
   "cell_type": "code",
   "execution_count": null,
   "metadata": {
    "collapsed": false
   },
   "outputs": [],
   "source": [
    "import theano\n",
    "\n",
    "# To avoide max recusion limit error in Theano\n",
    "import sys \n",
    "sys.setrecursionlimit(50000)\n",
    "\n",
    "index = theano.shared(ind5)\n",
    "\n",
    "with pm.Model() as model1:\n",
    "    pi = pm.Dirichlet(\"pi\",a=np.ones(15),shape=15)\n",
    "    nu = pm.Uniform(\"nu\",lower=1,upper=1000)\n",
    "    \n",
    "    zi = pm.Categorical(\"zi\",p=np.ones(nz)/nz,shape=ns)\n",
    "#     zi = pm.DiscreteUniform(\"zi\",lower=0,upper=nz,shape=ns)\n",
    "    \n",
    "    ##### v3 #####\n",
    "#     aij=[]\n",
    "#     for z in range(ns):\n",
    "#         # m = theano.tensor.cast(T.clip(zi[z],0,nz-1), 'int64')\n",
    "#         for j in range(gnq[z]):\n",
    "#             piprime = theano.shared(np.zeros(gn))\n",
    "#             for k in range(gn):\n",
    "#                 lk = theano.tensor.cast(index[zi[z],gq[z,j]-1,k], 'int64')\n",
    "#                 piprimetmp = T.stack([pi[k],pi[k]/nu,nu*pi[k]])\n",
    "#                 piprime = T.set_subtensor(piprime[k],piprimetmp[lk])\n",
    "#             i=z*int(21)+j\n",
    "#             obtmp=ga[z,j]-1\n",
    "#             aij.append([pm.Categorical(\"aij_%i\"%i,p=piprime/T.sum(piprime),observed=obtmp)])\n",
    "    \n",
    "    \n",
    "    ##### v2 #####\n",
    "    def logp(p, k, value):\n",
    "        sumto1 = theano.gradient.zero_grad(T.le(abs(T.sum(p) - 1), 1e-5))\n",
    "        return pm.dist_math.bound(T.log(p[value]),value >= 0, value <= (k - 1),sumto1)\n",
    "    def CatelikeMat(observed,index):\n",
    "        lp_is = theano.shared(np.zeros(ns))\n",
    "        for i in range(ns):\n",
    "            lp_parts = 0\n",
    "            m = theano.tensor.cast(T.clip(zi[i],0,nz-1), 'int64')\n",
    "            for j in range(gnq[i]):\n",
    "                v = theano.tensor.cast(gq[i,j]-1, 'int64')\n",
    "                \n",
    "                piprime = theano.shared(np.zeros(gn))\n",
    "                for k in range(gn):\n",
    "                    lk = theano.tensor.cast(index[m,v,k], 'int64')\n",
    "                    piprimetmp = T.stack([pi[k],1/nu*pi[k],nu*pi[k]])\n",
    "                    piprime = T.set_subtensor(piprime[k],piprimetmp[lk])\n",
    "                        \n",
    "                o = theano.tensor.cast(observed[i,j]-1, 'int64')\n",
    "                lp_parts+=logp(p=piprime/T.sum(piprime),k=15,value=o)\n",
    "            lp_is = T.set_subtensor(lp_is[i],lp_parts)\n",
    "        return T.sum(lp_is)\n",
    "    \n",
    "    aij = pm.DensityDist('aij', CatelikeMat, observed={'observed':ga,'index':ind5})\n",
    "    \n",
    "    \n",
    "    ##### v1 #####\n",
    "#     npiprime = theano.shared(np.zeros((nz,gn,gn)))\n",
    "#     for z in range(nz):\n",
    "#         for j in range(gn):\n",
    "#             piprime = theano.shared(np.zeros(gn))\n",
    "#             for k in range(gn):\n",
    "#                 piprimetmp = T.stack([pi[k],1/nu*pi[k],nu*pi[k]])\n",
    "#                 piprime = T.set_subtensor(piprime[k],piprimetmp[ind5[z,j,k]])\n",
    "#             npiprime = T.set_subtensor(npiprime[z,j,:],piprime/T.sum(piprime))\n",
    "\n",
    "#     aij = []\n",
    "#     for z in range(ns):\n",
    "#         for j in range(gnq[z]):\n",
    "#             i=z*int(21)+j\n",
    "#             obtmp=ga[z,j]-1\n",
    "#             aij.append([pm.Categorical(\"aij_%i\"%i,p=npiprime[zi[z],gq[z,j]-1,:],observed=obtmp)])"
   ]
  },
  {
   "cell_type": "code",
   "execution_count": null,
   "metadata": {
    "collapsed": false
   },
   "outputs": [
    {
     "name": "stderr",
     "output_type": "stream",
     "text": [
      "INFO (theano.gof.compilelock): Refreshing lock /Users/jlao/.theano/compiledir_Darwin-15.3.0-x86_64-i386-64bit-i386-3.5.1-64/lock_dir/lock\n",
      "INFO:theano.gof.compilelock:Refreshing lock /Users/jlao/.theano/compiledir_Darwin-15.3.0-x86_64-i386-64bit-i386-3.5.1-64/lock_dir/lock\n",
      "INFO (theano.gof.compilelock): Refreshing lock /Users/jlao/.theano/compiledir_Darwin-15.3.0-x86_64-i386-64bit-i386-3.5.1-64/lock_dir/lock\n",
      "INFO:theano.gof.compilelock:Refreshing lock /Users/jlao/.theano/compiledir_Darwin-15.3.0-x86_64-i386-64bit-i386-3.5.1-64/lock_dir/lock\n",
      "INFO (theano.gof.compilelock): Refreshing lock /Users/jlao/.theano/compiledir_Darwin-15.3.0-x86_64-i386-64bit-i386-3.5.1-64/lock_dir/lock\n",
      "INFO:theano.gof.compilelock:Refreshing lock /Users/jlao/.theano/compiledir_Darwin-15.3.0-x86_64-i386-64bit-i386-3.5.1-64/lock_dir/lock\n"
     ]
    }
   ],
   "source": [
    "with model1:\n",
    "    step1=pm.ElemwiseCategoricalStep(vars=[zi], values=np.arange(nz))\n",
    "    step2=pm.Metropolis(vars=[pi,nu])\n",
    "    trace1=pm.sample(3e3,step=[step1,step2])\n",
    "\n",
    "pm.traceplot(trace1)\n",
    "plt.show()"
   ]
  },
  {
   "cell_type": "code",
   "execution_count": 96,
   "metadata": {
    "collapsed": false
   },
   "outputs": [
    {
     "data": {
      "image/png": "[encoded data removed]",
      "text/plain": [
       "<matplotlib.figure.Figure at 0x16544c940>"
      ]
     },
     "metadata": {},
     "output_type": "display_data"
    }
   ],
   "source": [
    "pitr=trace1['pi']\n",
    "fig = plt.figure(figsize=(18, 8))\n",
    "plt.bar(np.arange(15)+1,np.mean(pitr,axis=0),align='center')\n",
    "plt.xlabel('Number')\n",
    "plt.ylabel('Probability')\n",
    "plt.xlim([0,16])\n",
    "plt.show()"
   ]
  },
  {
   "cell_type": "code",
   "execution_count": 97,
   "metadata": {
    "collapsed": false
   },
   "outputs": [
    {
     "ename": "IndexError",
     "evalue": "index 2 is out of bounds for axis 1 with size 2",
     "output_type": "error",
     "traceback": [
      "\u001b[0;31m---------------------------------------------------------------------------\u001b[0m",
      "\u001b[0;31mIndexError\u001b[0m                                Traceback (most recent call last)",
      "\u001b[0;32m<ipython-input-97-69fc1143e63e>\u001b[0m in \u001b[0;36m<module>\u001b[0;34m()\u001b[0m\n\u001b[1;32m      4\u001b[0m \u001b[0;32mfor\u001b[0m \u001b[0mi\u001b[0m \u001b[0;32min\u001b[0m \u001b[0mrange\u001b[0m\u001b[0;34m(\u001b[0m\u001b[0mns\u001b[0m\u001b[0;34m)\u001b[0m\u001b[0;34m:\u001b[0m\u001b[0;34m\u001b[0m\u001b[0m\n\u001b[1;32m      5\u001b[0m     \u001b[0max\u001b[0m \u001b[0;34m=\u001b[0m \u001b[0mplt\u001b[0m\u001b[0;34m.\u001b[0m\u001b[0msubplot\u001b[0m\u001b[0;34m(\u001b[0m\u001b[0mgs\u001b[0m\u001b[0;34m[\u001b[0m\u001b[0mi\u001b[0m\u001b[0;34m]\u001b[0m\u001b[0;34m)\u001b[0m\u001b[0;34m\u001b[0m\u001b[0m\n\u001b[0;32m----> 6\u001b[0;31m     \u001b[0max\u001b[0m\u001b[0;34m.\u001b[0m\u001b[0mhist\u001b[0m\u001b[0;34m(\u001b[0m\u001b[0mzitr\u001b[0m\u001b[0;34m[\u001b[0m\u001b[0;34m:\u001b[0m\u001b[0;34m,\u001b[0m\u001b[0mi\u001b[0m\u001b[0;34m]\u001b[0m\u001b[0;34m,\u001b[0m\u001b[0mbins\u001b[0m\u001b[0;34m=\u001b[0m\u001b[0mnp\u001b[0m\u001b[0;34m.\u001b[0m\u001b[0marange\u001b[0m\u001b[0;34m(\u001b[0m\u001b[0mnz\u001b[0m\u001b[0;34m+\u001b[0m\u001b[0;36m1\u001b[0m\u001b[0;34m)\u001b[0m\u001b[0;34m)\u001b[0m\u001b[0;34m\u001b[0m\u001b[0m\n\u001b[0m\u001b[1;32m      7\u001b[0m \u001b[0mplt\u001b[0m\u001b[0;34m.\u001b[0m\u001b[0mtight_layout\u001b[0m\u001b[0;34m(\u001b[0m\u001b[0;34m)\u001b[0m\u001b[0;34m\u001b[0m\u001b[0m\n\u001b[1;32m      8\u001b[0m \u001b[0mplt\u001b[0m\u001b[0;34m.\u001b[0m\u001b[0mshow\u001b[0m\u001b[0;34m(\u001b[0m\u001b[0;34m)\u001b[0m\u001b[0;34m\u001b[0m\u001b[0m\n",
      "\u001b[0;31mIndexError\u001b[0m: index 2 is out of bounds for axis 1 with size 2"
     ]
    },
    {
     "data": {
      "image/png": "[encoded data removed]",
      "text/plain": [
       "<matplotlib.figure.Figure at 0x16f086cf8>"
      ]
     },
     "metadata": {},
     "output_type": "display_data"
    }
   ],
   "source": [
    "fig = plt.figure(figsize=(20, 16))\n",
    "gs = gridspec.GridSpec(4,5)\n",
    "zitr=trace1['zi']\n",
    "for i in range(ns):\n",
    "    ax = plt.subplot(gs[i])\n",
    "    ax.hist(zitr[:,i],bins=np.arange(nz+1))\n",
    "plt.tight_layout()\n",
    "plt.show()"
   ]
  },
  {
   "cell_type": "markdown",
   "metadata": {},
   "source": [
    "## 19.2 Knower-level model for Fast-Cards\n",
    "\n",
    "\n",
    "$$ \\pi \\sim \\text{Dirichlet}\\overbrace{(1,...,1)}^{50} $$\n",
    "$$ \\nu \\sim \\text{Uniform}(1,1000)$$\n",
    "$$ z_{i} \\sim \\text{Categorical}(\\frac{1}{6},...,\\frac{1}{6})$$  \n",
    "\n",
    "$$ \\pi^{\\prime}_{ijk} \\propto\n",
    "\\begin{cases}\n",
    "\\pi_k & \\text{if $k \\gt z_i$} \\\\\n",
    "\\nu \\times \\pi_{ijk} & \\text{if $k \\leq z_i$ and $k = q^f_{ij}$} \\\\\n",
    "\\frac{1}{\\nu} \\times \\pi_{ijk} & \\text{if $k \\leq z_i$ and $k \\neq q^f_{ij}$}\n",
    "\\end{cases}  $$  \n",
    "$$ a_{ij}^f \\sim \\text{Categorical}(\\pi^{\\prime}_{ij})$$"
   ]
  },
  {
   "cell_type": "code",
   "execution_count": null,
   "metadata": {
    "collapsed": true
   },
   "outputs": [],
   "source": []
  },
  {
   "cell_type": "markdown",
   "metadata": {},
   "source": [
    "## 19.3 Knower-level model for Give-N and Fast-Cards\n",
    "\n",
    "\n",
    "$$ \\pi^{g} \\sim \\text{Dirichlet}\\overbrace{(1,...,1)}^{15} $$\n",
    "$$ \\pi^{f} \\sim \\text{Dirichlet}\\overbrace{(1,...,1)}^{50} $$\n",
    "$$ \\nu^{g},\\nu^{f} \\sim \\text{Uniform}(1,1000)$$\n",
    "$$ z_{i} \\sim \\text{Categorical}(\\frac{1}{6},...,\\frac{1}{6})$$  \n",
    "\n",
    "$$ \\pi^{\\prime g}_{ijk} \\propto\n",
    "\\begin{cases}\n",
    "\\pi_k^g & \\text{if $k \\gt z_i$} \\\\\n",
    "\\nu^g \\times \\pi_{ijk}^g & \\text{if $k \\leq z_i$ and $k = q^f_{ij}$} \\\\\n",
    "\\frac{1}{\\nu^g} \\times \\pi_{ijk}^g & \\text{if $k \\leq z_i$ and $k \\neq q^f_{ij}$}\n",
    "\\end{cases}  $$  \n",
    "\n",
    "$$ \\pi^{\\prime f}_{ijk} \\propto\n",
    "\\begin{cases}\n",
    "\\pi_k^f & \\text{if $k \\gt z_i$} \\\\\n",
    "\\nu^f \\times \\pi_{ijk}^f & \\text{if $k \\leq z_i$ and $k = q^f_{ij}$} \\\\\n",
    "\\frac{1}{\\nu^f} \\times \\pi_{ijk}^f & \\text{if $k \\leq z_i$ and $k \\neq q^f_{ij}$}\n",
    "\\end{cases}  $$  \n",
    "\n",
    "$$ a_{ij}^g \\sim \\text{Categorical}(\\pi^{\\prime g}_{ij})$$\n",
    "$$ a_{ij}^f \\sim \\text{Categorical}(\\pi^{\\prime f}_{ij})$$"
   ]
  },
  {
   "cell_type": "code",
   "execution_count": null,
   "metadata": {
    "collapsed": true
   },
   "outputs": [],
   "source": []
  }
 ],
 "metadata": {
  "kernelspec": {
   "display_name": "Python 3",
   "language": "python",
   "name": "python3"
  },
  "language_info": {
   "codemirror_mode": {
    "name": "ipython",
    "version": 3
   },
   "file_extension": ".py",
   "mimetype": "text/x-python",
   "name": "python",
   "nbconvert_exporter": "python",
   "pygments_lexer": "ipython3",
   "version": "3.5.1"
  }
 },
 "nbformat": 4,
 "nbformat_minor": 0
}
