{
 "cells": [
  {
   "cell_type": "code",
   "execution_count": 1,
   "metadata": {
    "collapsed": false
   },
   "outputs": [
    {
     "name": "stderr",
     "output_type": "stream",
     "text": [
      "/Users/Peter/anaconda/envs/pymc/lib/python3.6/site-packages/IPython/html.py:14: ShimWarning: The `IPython.html` package has been deprecated since IPython 4.0. You should import from `notebook` instead. `IPython.html.widgets` has moved to `ipywidgets`.\n",
      "  \"`IPython.html.widgets` has moved to `ipywidgets`.\", ShimWarning)\n"
     ]
    }
   ],
   "source": [
    "%matplotlib inline\n",
    "from __future__ import division  # just in case you are still using python2\n",
    "import pymc3 as pm\n",
    "import numpy as np\n",
    "import pandas as pd\n",
    "from scipy import stats\n",
    "from scipy.special import expit\n",
    "from scipy.interpolate import griddata\n",
    "import matplotlib.pyplot as plt\n",
    "import seaborn as sns; sns.set_palette('colorblind'); sns.set_color_codes()"
   ]
  },
  {
   "cell_type": "markdown",
   "metadata": {},
   "source": [
    "#### Code 10.1"
   ]
  },
  {
   "cell_type": "code",
   "execution_count": 2,
   "metadata": {
    "collapsed": true
   },
   "outputs": [],
   "source": [
    "d = pd.read_csv('./Data/chimpanzees.csv', sep=\";\")"
   ]
  },
  {
   "cell_type": "markdown",
   "metadata": {},
   "source": [
    "#### Code 10.2"
   ]
  },
  {
   "cell_type": "code",
   "execution_count": 3,
   "metadata": {
    "collapsed": false
   },
   "outputs": [
    {
     "name": "stderr",
     "output_type": "stream",
     "text": [
      "Auto-assigning NUTS sampler...\n",
      "Initializing NUTS using advi...\n",
      "  5%|▌         | 10999/200000 [00:01<00:23, 8018.97it/s]Median ELBO converged.\n",
      "Finished [100%]: Average ELBO = -358.53\n",
      "\n",
      "100%|██████████| 2000/2000 [00:01<00:00, 1064.99it/s]\n"
     ]
    }
   ],
   "source": [
    "with pm.Model() as model_10_1:\n",
    "    a = pm.Normal('alpha', 0, 10)\n",
    "    p = pm.math.invlogit(a)\n",
    "    pulled_left = pm.Binomial('pulled_left', 1, p, observed=d['pulled_left'])\n",
    "\n",
    "    trace_10_1 = pm.sample(2000)"
   ]
  },
  {
   "cell_type": "code",
   "execution_count": 5,
   "metadata": {
    "collapsed": false
   },
   "outputs": [
    {
     "data": {
      "text/html": [
       "<div>\n",
       "<table border=\"1\" class=\"dataframe\">\n",
       "  <thead>\n",
       "    <tr style=\"text-align: right;\">\n",
       "      <th></th>\n",
       "      <th>mean</th>\n",
       "      <th>sd</th>\n",
       "      <th>mc_error</th>\n",
       "      <th>hpd_5.5</th>\n",
       "      <th>hpd_94.5</th>\n",
       "    </tr>\n",
       "  </thead>\n",
       "  <tbody>\n",
       "    <tr>\n",
       "      <th>alpha</th>\n",
       "      <td>0.320804</td>\n",
       "      <td>0.088398</td>\n",
       "      <td>0.003029</td>\n",
       "      <td>0.179077</td>\n",
       "      <td>0.452257</td>\n",
       "    </tr>\n",
       "  </tbody>\n",
       "</table>\n",
       "</div>"
      ],
      "text/plain": [
       "           mean        sd  mc_error   hpd_5.5  hpd_94.5\n",
       "alpha  0.320804  0.088398  0.003029  0.179077  0.452257"
      ]
     },
     "execution_count": 5,
     "metadata": {},
     "output_type": "execute_result"
    }
   ],
   "source": [
    "pm.df_summary(trace_10_1, alpha=0.11)"
   ]
  },
  {
   "cell_type": "markdown",
   "metadata": {},
   "source": [
    "#### Code 10.3"
   ]
  },
  {
   "cell_type": "code",
   "execution_count": 6,
   "metadata": {
    "collapsed": false
   },
   "outputs": [
    {
     "data": {
      "text/plain": [
       "array([ 0.54487889,  0.61301418])"
      ]
     },
     "execution_count": 6,
     "metadata": {},
     "output_type": "execute_result"
    }
   ],
   "source": [
    "expit([0.18, 0.46])"
   ]
  },
  {
   "cell_type": "markdown",
   "metadata": {},
   "source": [
    "#### Code 10.4"
   ]
  },
  {
   "cell_type": "code",
   "execution_count": 58,
   "metadata": {
    "collapsed": false
   },
   "outputs": [
    {
     "name": "stderr",
     "output_type": "stream",
     "text": [
      "Auto-assigning NUTS sampler...\n",
      "Initializing NUTS using advi...\n",
      "  9%|▉         | 18223/200000 [00:03<00:31, 5840.99it/s]Median ELBO converged.\n",
      "Finished [100%]: Average ELBO = -358.27\n",
      "\n",
      "100%|██████████| 2000/2000 [00:03<00:00, 657.85it/s]\n",
      "Auto-assigning NUTS sampler...\n",
      "Initializing NUTS using advi...\n",
      " 10%|▉         | 19923/200000 [00:03<00:32, 5501.54it/s]Median ELBO converged.\n",
      "Finished [100%]: Average ELBO = -362.77\n",
      "\n",
      "100%|██████████| 2000/2000 [00:04<00:00, 425.79it/s]\n"
     ]
    }
   ],
   "source": [
    "with pm.Model() as model_10_2:\n",
    "    a = pm.Normal('alpha', 0, 10)\n",
    "    bp = pm.Normal('bp', 0, 10)\n",
    "    p = pm.math.invlogit(a + bp*d['prosoc_left'])\n",
    "    pulled_left = pm.Binomial('pulled_left', 1, p, observed=d['pulled_left'])\n",
    "\n",
    "    trace_10_2 = pm.sample(2000)\n",
    "\n",
    "with pm.Model() as model_10_3:\n",
    "    a = pm.Normal('alpha', 0, 10)\n",
    "    bp = pm.Normal('bp', 0, 10)\n",
    "    bpC = pm.Normal('bpC', 0, 10)\n",
    "    p = pm.math.invlogit(a + (bp + bpC*d['condition'])*d['prosoc_left'] )\n",
    "    pulled_left = pm.Binomial('pulled_left', 1, p, observed=d['pulled_left'])\n",
    "\n",
    "    trace_10_3 = pm.sample(2000)"
   ]
  },
  {
   "cell_type": "markdown",
   "metadata": {},
   "source": [
    "#### Code 10.5"
   ]
  },
  {
   "cell_type": "code",
   "execution_count": 13,
   "metadata": {
    "collapsed": false
   },
   "outputs": [
    {
     "data": {
      "text/html": [
       "<div>\n",
       "<table border=\"1\" class=\"dataframe\">\n",
       "  <thead>\n",
       "    <tr style=\"text-align: right;\">\n",
       "      <th></th>\n",
       "      <th>WAIC</th>\n",
       "      <th>pWAIC</th>\n",
       "      <th>dWAIC</th>\n",
       "      <th>weight</th>\n",
       "      <th>SE</th>\n",
       "      <th>dSE</th>\n",
       "      <th>warning</th>\n",
       "    </tr>\n",
       "  </thead>\n",
       "  <tbody>\n",
       "    <tr>\n",
       "      <th>1</th>\n",
       "      <td>680.495</td>\n",
       "      <td>1.99885</td>\n",
       "      <td>0</td>\n",
       "      <td>0.674044</td>\n",
       "      <td>9.34298</td>\n",
       "      <td>0</td>\n",
       "      <td>0</td>\n",
       "    </tr>\n",
       "    <tr>\n",
       "      <th>2</th>\n",
       "      <td>682.055</td>\n",
       "      <td>2.85738</td>\n",
       "      <td>1.55983</td>\n",
       "      <td>0.309012</td>\n",
       "      <td>9.40691</td>\n",
       "      <td>0.0286595</td>\n",
       "      <td>0</td>\n",
       "    </tr>\n",
       "    <tr>\n",
       "      <th>0</th>\n",
       "      <td>687.862</td>\n",
       "      <td>0.960751</td>\n",
       "      <td>7.3667</td>\n",
       "      <td>0.0169446</td>\n",
       "      <td>7.12429</td>\n",
       "      <td>1.72685</td>\n",
       "      <td>0</td>\n",
       "    </tr>\n",
       "  </tbody>\n",
       "</table>\n",
       "</div>"
      ],
      "text/plain": [
       "      WAIC     pWAIC    dWAIC     weight       SE        dSE warning\n",
       "1  680.495   1.99885        0   0.674044  9.34298          0       0\n",
       "2  682.055   2.85738  1.55983   0.309012  9.40691  0.0286595       0\n",
       "0  687.862  0.960751   7.3667  0.0169446  7.12429    1.72685       0"
      ]
     },
     "execution_count": 13,
     "metadata": {},
     "output_type": "execute_result"
    }
   ],
   "source": [
    "comp_df = pm.compare(traces=[trace_10_1, trace_10_2, trace_10_3], models=[model_10_1, model_10_2, model_10_3])\n",
    "comp_df"
   ]
  },
  {
   "cell_type": "code",
   "execution_count": 14,
   "metadata": {
    "collapsed": false
   },
   "outputs": [
    {
     "data": {
      "image/png": "[encoded data removed]",
      "text/plain": [
       "<matplotlib.figure.Figure at 0x12293d278>"
      ]
     },
     "metadata": {},
     "output_type": "display_data"
    }
   ],
   "source": [
    "pm.compare_plot(comp_df);"
   ]
  },
  {
   "cell_type": "markdown",
   "metadata": {},
   "source": [
    "#### Code 10.6"
   ]
  },
  {
   "cell_type": "code",
   "execution_count": 16,
   "metadata": {
    "collapsed": false
   },
   "outputs": [
    {
     "data": {
      "text/html": [
       "<div>\n",
       "<table border=\"1\" class=\"dataframe\">\n",
       "  <thead>\n",
       "    <tr style=\"text-align: right;\">\n",
       "      <th></th>\n",
       "      <th>mean</th>\n",
       "      <th>sd</th>\n",
       "      <th>mc_error</th>\n",
       "      <th>hpd_2.5</th>\n",
       "      <th>hpd_97.5</th>\n",
       "    </tr>\n",
       "  </thead>\n",
       "  <tbody>\n",
       "    <tr>\n",
       "      <th>alpha</th>\n",
       "      <td>0.05</td>\n",
       "      <td>0.12</td>\n",
       "      <td>0.00</td>\n",
       "      <td>-0.18</td>\n",
       "      <td>0.31</td>\n",
       "    </tr>\n",
       "    <tr>\n",
       "      <th>bp</th>\n",
       "      <td>0.61</td>\n",
       "      <td>0.22</td>\n",
       "      <td>0.01</td>\n",
       "      <td>0.18</td>\n",
       "      <td>1.04</td>\n",
       "    </tr>\n",
       "    <tr>\n",
       "      <th>bpC</th>\n",
       "      <td>-0.10</td>\n",
       "      <td>0.26</td>\n",
       "      <td>0.01</td>\n",
       "      <td>-0.65</td>\n",
       "      <td>0.38</td>\n",
       "    </tr>\n",
       "  </tbody>\n",
       "</table>\n",
       "</div>"
      ],
      "text/plain": [
       "       mean    sd  mc_error  hpd_2.5  hpd_97.5\n",
       "alpha  0.05  0.12      0.00    -0.18      0.31\n",
       "bp     0.61  0.22      0.01     0.18      1.04\n",
       "bpC   -0.10  0.26      0.01    -0.65      0.38"
      ]
     },
     "execution_count": 16,
     "metadata": {},
     "output_type": "execute_result"
    }
   ],
   "source": [
    "pm.df_summary(trace_10_3).round(2)"
   ]
  },
  {
   "cell_type": "markdown",
   "metadata": {},
   "source": [
    "#### Code 10.7"
   ]
  },
  {
   "cell_type": "code",
   "execution_count": 18,
   "metadata": {
    "collapsed": false
   },
   "outputs": [
    {
     "data": {
      "text/plain": [
       "1.8404313987816374"
      ]
     },
     "execution_count": 18,
     "metadata": {},
     "output_type": "execute_result"
    }
   ],
   "source": [
    "np.exp(0.61)"
   ]
  },
  {
   "cell_type": "markdown",
   "metadata": {},
   "source": [
    "#### Code 10.8"
   ]
  },
  {
   "cell_type": "code",
   "execution_count": 22,
   "metadata": {
    "collapsed": false
   },
   "outputs": [
    {
     "data": {
      "text/plain": [
       "0.98201379003790845"
      ]
     },
     "execution_count": 22,
     "metadata": {},
     "output_type": "execute_result"
    }
   ],
   "source": [
    "expit(4)"
   ]
  },
  {
   "cell_type": "markdown",
   "metadata": {},
   "source": [
    "#### Code 10.9"
   ]
  },
  {
   "cell_type": "code",
   "execution_count": 23,
   "metadata": {
    "collapsed": false
   },
   "outputs": [
    {
     "data": {
      "text/plain": [
       "0.99014624447676869"
      ]
     },
     "execution_count": 23,
     "metadata": {},
     "output_type": "execute_result"
    }
   ],
   "source": [
    "expit(4 + 0.61)"
   ]
  },
  {
   "cell_type": "markdown",
   "metadata": {},
   "source": [
    "#### Code 10.10"
   ]
  },
  {
   "cell_type": "code",
   "execution_count": 25,
   "metadata": {
    "collapsed": false
   },
   "outputs": [],
   "source": [
    "d_pred = pd.DataFrame({'prosoc_left' : [0, 1, 0, 1], 'condition' : [0, 0, 1, 1]})\n",
    "\n",
    "# MODEL ENSEMBLE"
   ]
  },
  {
   "cell_type": "markdown",
   "metadata": {},
   "source": [
    "#### Code 10.11"
   ]
  },
  {
   "cell_type": "code",
   "execution_count": 26,
   "metadata": {
    "collapsed": true
   },
   "outputs": [],
   "source": [
    "# PLOTTING"
   ]
  },
  {
   "cell_type": "markdown",
   "metadata": {},
   "source": [
    "#### Code 10.12 & 10.13\n",
    "This is the same as 10.6, but in the book using MCMC rather than quadratic approximation."
   ]
  },
  {
   "cell_type": "markdown",
   "metadata": {},
   "source": [
    "#### Code 10.14"
   ]
  },
  {
   "cell_type": "code",
   "execution_count": 34,
   "metadata": {
    "collapsed": false
   },
   "outputs": [
    {
     "name": "stderr",
     "output_type": "stream",
     "text": [
      "Auto-assigning NUTS sampler...\n",
      "Initializing NUTS using advi...\n",
      "Average ELBO = -311.09:  14%|█▎        | 27187/200000 [00:06<00:40, 4216.69it/s]Median ELBO converged.\n",
      "Finished [100%]: Average ELBO = -290.02\n",
      "\n",
      "100%|██████████| 2000/2000 [00:07<00:00, 254.26it/s]\n"
     ]
    }
   ],
   "source": [
    "# indices are 0 indexed\n",
    "d['actor_0'] = d['actor'] - 1\n",
    "\n",
    "with pm.Model() as model_10_4:\n",
    "    a = pm.Normal('alpha', 0, 10, shape=len(d['actor'].unique()))\n",
    "    bp = pm.Normal('bp', 0, 10)\n",
    "    bpC = pm.Normal('bpC', 0, 10)\n",
    "    p = pm.math.invlogit(a[d['actor_0'].values] + (bp + bpC*d['condition'])*d['prosoc_left'] )\n",
    "    pulled_left = pm.Binomial('pulled_left', 1, p, observed=d['pulled_left'])\n",
    "\n",
    "    trace_10_4 = pm.sample(2000)"
   ]
  },
  {
   "cell_type": "markdown",
   "metadata": {},
   "source": [
    "#### Code 10.15"
   ]
  },
  {
   "cell_type": "code",
   "execution_count": 40,
   "metadata": {
    "collapsed": false
   },
   "outputs": [
    {
     "data": {
      "text/plain": [
       "{1: 0, 2: 1, 3: 2, 4: 3, 5: 4, 6: 5, 7: 6}"
      ]
     },
     "execution_count": 40,
     "metadata": {},
     "output_type": "execute_result"
    }
   ],
   "source": [
    "# This is just a mapping from 1-index to 0-index vals\n",
    "dict(zip(d['actor'].unique(), d['actor_0'].unique()))"
   ]
  },
  {
   "cell_type": "markdown",
   "metadata": {},
   "source": [
    "#### Code 10.16"
   ]
  },
  {
   "cell_type": "code",
   "execution_count": 41,
   "metadata": {
    "collapsed": false
   },
   "outputs": [
    {
     "data": {
      "text/html": [
       "<div>\n",
       "<table border=\"1\" class=\"dataframe\">\n",
       "  <thead>\n",
       "    <tr style=\"text-align: right;\">\n",
       "      <th></th>\n",
       "      <th>mean</th>\n",
       "      <th>sd</th>\n",
       "      <th>mc_error</th>\n",
       "      <th>hpd_5.5</th>\n",
       "      <th>hpd_94.5</th>\n",
       "    </tr>\n",
       "  </thead>\n",
       "  <tbody>\n",
       "    <tr>\n",
       "      <th>alpha__0</th>\n",
       "      <td>-0.75</td>\n",
       "      <td>0.28</td>\n",
       "      <td>0.01</td>\n",
       "      <td>-1.20</td>\n",
       "      <td>-0.33</td>\n",
       "    </tr>\n",
       "    <tr>\n",
       "      <th>alpha__1</th>\n",
       "      <td>10.93</td>\n",
       "      <td>5.30</td>\n",
       "      <td>0.24</td>\n",
       "      <td>3.43</td>\n",
       "      <td>18.09</td>\n",
       "    </tr>\n",
       "    <tr>\n",
       "      <th>alpha__2</th>\n",
       "      <td>-1.05</td>\n",
       "      <td>0.28</td>\n",
       "      <td>0.01</td>\n",
       "      <td>-1.50</td>\n",
       "      <td>-0.60</td>\n",
       "    </tr>\n",
       "    <tr>\n",
       "      <th>alpha__3</th>\n",
       "      <td>-1.05</td>\n",
       "      <td>0.28</td>\n",
       "      <td>0.01</td>\n",
       "      <td>-1.48</td>\n",
       "      <td>-0.57</td>\n",
       "    </tr>\n",
       "    <tr>\n",
       "      <th>alpha__4</th>\n",
       "      <td>-0.75</td>\n",
       "      <td>0.27</td>\n",
       "      <td>0.01</td>\n",
       "      <td>-1.21</td>\n",
       "      <td>-0.37</td>\n",
       "    </tr>\n",
       "    <tr>\n",
       "      <th>alpha__5</th>\n",
       "      <td>0.21</td>\n",
       "      <td>0.27</td>\n",
       "      <td>0.01</td>\n",
       "      <td>-0.20</td>\n",
       "      <td>0.65</td>\n",
       "    </tr>\n",
       "    <tr>\n",
       "      <th>alpha__6</th>\n",
       "      <td>1.81</td>\n",
       "      <td>0.40</td>\n",
       "      <td>0.01</td>\n",
       "      <td>1.16</td>\n",
       "      <td>2.44</td>\n",
       "    </tr>\n",
       "    <tr>\n",
       "      <th>bp</th>\n",
       "      <td>0.84</td>\n",
       "      <td>0.26</td>\n",
       "      <td>0.01</td>\n",
       "      <td>0.44</td>\n",
       "      <td>1.26</td>\n",
       "    </tr>\n",
       "    <tr>\n",
       "      <th>bpC</th>\n",
       "      <td>-0.15</td>\n",
       "      <td>0.30</td>\n",
       "      <td>0.01</td>\n",
       "      <td>-0.63</td>\n",
       "      <td>0.34</td>\n",
       "    </tr>\n",
       "  </tbody>\n",
       "</table>\n",
       "</div>"
      ],
      "text/plain": [
       "           mean    sd  mc_error  hpd_5.5  hpd_94.5\n",
       "alpha__0  -0.75  0.28      0.01    -1.20     -0.33\n",
       "alpha__1  10.93  5.30      0.24     3.43     18.09\n",
       "alpha__2  -1.05  0.28      0.01    -1.50     -0.60\n",
       "alpha__3  -1.05  0.28      0.01    -1.48     -0.57\n",
       "alpha__4  -0.75  0.27      0.01    -1.21     -0.37\n",
       "alpha__5   0.21  0.27      0.01    -0.20      0.65\n",
       "alpha__6   1.81  0.40      0.01     1.16      2.44\n",
       "bp         0.84  0.26      0.01     0.44      1.26\n",
       "bpC       -0.15  0.30      0.01    -0.63      0.34"
      ]
     },
     "execution_count": 41,
     "metadata": {},
     "output_type": "execute_result"
    }
   ],
   "source": [
    "pm.df_summary(trace_10_4, alpha=0.11).round(2)"
   ]
  },
  {
   "cell_type": "markdown",
   "metadata": {},
   "source": [
    "#### Code 10.7"
   ]
  },
  {
   "cell_type": "code",
   "execution_count": 44,
   "metadata": {
    "collapsed": false
   },
   "outputs": [
    {
     "data": {
      "text/html": [
       "<div>\n",
       "<table border=\"1\" class=\"dataframe\">\n",
       "  <thead>\n",
       "    <tr style=\"text-align: right;\">\n",
       "      <th></th>\n",
       "      <th>alpha__0</th>\n",
       "      <th>alpha__1</th>\n",
       "      <th>alpha__2</th>\n",
       "      <th>alpha__3</th>\n",
       "      <th>alpha__4</th>\n",
       "      <th>alpha__5</th>\n",
       "      <th>alpha__6</th>\n",
       "      <th>bp</th>\n",
       "      <th>bpC</th>\n",
       "    </tr>\n",
       "  </thead>\n",
       "  <tbody>\n",
       "    <tr>\n",
       "      <th>0</th>\n",
       "      <td>-0.514489</td>\n",
       "      <td>5.485634</td>\n",
       "      <td>-0.898054</td>\n",
       "      <td>-1.120923</td>\n",
       "      <td>-0.347693</td>\n",
       "      <td>0.155597</td>\n",
       "      <td>1.793375</td>\n",
       "      <td>0.936478</td>\n",
       "      <td>0.017199</td>\n",
       "    </tr>\n",
       "    <tr>\n",
       "      <th>1</th>\n",
       "      <td>-0.514489</td>\n",
       "      <td>5.485634</td>\n",
       "      <td>-0.898054</td>\n",
       "      <td>-1.120923</td>\n",
       "      <td>-0.347693</td>\n",
       "      <td>0.155597</td>\n",
       "      <td>1.793375</td>\n",
       "      <td>0.936478</td>\n",
       "      <td>0.017199</td>\n",
       "    </tr>\n",
       "    <tr>\n",
       "      <th>2</th>\n",
       "      <td>-0.543248</td>\n",
       "      <td>6.473071</td>\n",
       "      <td>-1.106648</td>\n",
       "      <td>-0.753573</td>\n",
       "      <td>-0.551040</td>\n",
       "      <td>0.148598</td>\n",
       "      <td>1.132624</td>\n",
       "      <td>0.497473</td>\n",
       "      <td>-0.215090</td>\n",
       "    </tr>\n",
       "    <tr>\n",
       "      <th>3</th>\n",
       "      <td>-0.036090</td>\n",
       "      <td>5.600256</td>\n",
       "      <td>-0.983804</td>\n",
       "      <td>-1.078333</td>\n",
       "      <td>-1.020332</td>\n",
       "      <td>-0.131862</td>\n",
       "      <td>1.986372</td>\n",
       "      <td>0.798460</td>\n",
       "      <td>0.224400</td>\n",
       "    </tr>\n",
       "    <tr>\n",
       "      <th>4</th>\n",
       "      <td>-1.088827</td>\n",
       "      <td>4.821232</td>\n",
       "      <td>-1.370783</td>\n",
       "      <td>-1.074082</td>\n",
       "      <td>-0.723607</td>\n",
       "      <td>0.177584</td>\n",
       "      <td>1.979010</td>\n",
       "      <td>0.663319</td>\n",
       "      <td>-0.186658</td>\n",
       "    </tr>\n",
       "  </tbody>\n",
       "</table>\n",
       "</div>"
      ],
      "text/plain": [
       "   alpha__0  alpha__1  alpha__2  alpha__3  alpha__4  alpha__5  alpha__6  \\\n",
       "0 -0.514489  5.485634 -0.898054 -1.120923 -0.347693  0.155597  1.793375   \n",
       "1 -0.514489  5.485634 -0.898054 -1.120923 -0.347693  0.155597  1.793375   \n",
       "2 -0.543248  6.473071 -1.106648 -0.753573 -0.551040  0.148598  1.132624   \n",
       "3 -0.036090  5.600256 -0.983804 -1.078333 -1.020332 -0.131862  1.986372   \n",
       "4 -1.088827  4.821232 -1.370783 -1.074082 -0.723607  0.177584  1.979010   \n",
       "\n",
       "         bp       bpC  \n",
       "0  0.936478  0.017199  \n",
       "1  0.936478  0.017199  \n",
       "2  0.497473 -0.215090  \n",
       "3  0.798460  0.224400  \n",
       "4  0.663319 -0.186658  "
      ]
     },
     "execution_count": 44,
     "metadata": {},
     "output_type": "execute_result"
    }
   ],
   "source": [
    "post = pm.trace_to_dataframe(trace_10_4)\n",
    "post.head()"
   ]
  },
  {
   "cell_type": "markdown",
   "metadata": {},
   "source": [
    "#### Code 10.18"
   ]
  },
  {
   "cell_type": "code",
   "execution_count": 46,
   "metadata": {
    "collapsed": false
   },
   "outputs": [
    {
     "data": {
      "text/plain": [
       "<matplotlib.axes._subplots.AxesSubplot at 0x124742748>"
      ]
     },
     "execution_count": 46,
     "metadata": {},
     "output_type": "execute_result"
    },
    {
     "data": {
      "image/png": "[encoded data removed]",
      "text/plain": [
       "<matplotlib.figure.Figure at 0x122763ef0>"
      ]
     },
     "metadata": {},
     "output_type": "display_data"
    }
   ],
   "source": [
    "sns.kdeplot(post['alpha__1'])"
   ]
  },
  {
   "cell_type": "markdown",
   "metadata": {},
   "source": [
    "#### Code 10.19"
   ]
  },
  {
   "cell_type": "code",
   "execution_count": 47,
   "metadata": {
    "collapsed": true
   },
   "outputs": [],
   "source": [
    "# Posterior Prediction Plots"
   ]
  },
  {
   "cell_type": "markdown",
   "metadata": {},
   "source": [
    "#### Code 10.20"
   ]
  },
  {
   "cell_type": "code",
   "execution_count": 53,
   "metadata": {
    "collapsed": false
   },
   "outputs": [],
   "source": [
    "d_aggregated = d.groupby(['actor', 'condition', 'prosoc_left',  ])['pulled_left'].sum().reset_index()"
   ]
  },
  {
   "cell_type": "markdown",
   "metadata": {},
   "source": [
    "#### Code 10.21"
   ]
  },
  {
   "cell_type": "code",
   "execution_count": 55,
   "metadata": {
    "collapsed": false
   },
   "outputs": [
    {
     "name": "stderr",
     "output_type": "stream",
     "text": [
      "Auto-assigning NUTS sampler...\n",
      "Initializing NUTS using advi...\n",
      "Average ELBO = -152.68:  14%|█▍        | 27527/200000 [00:02<00:16, 10712.62it/s]Median ELBO converged.\n",
      "Finished [100%]: Average ELBO = -141.42\n",
      "\n",
      "100%|██████████| 2000/2000 [00:03<00:00, 579.01it/s]\n"
     ]
    }
   ],
   "source": [
    "# indices are 0 indexed\n",
    "d['actor_0'] = d['actor'] - 1\n",
    "\n",
    "with pm.Model() as model_10_5:\n",
    "    a = pm.Normal('alpha', 0, 10)\n",
    "    bp = pm.Normal('bp', 0, 10)\n",
    "    bpC = pm.Normal('bpC', 0, 10)\n",
    "    p = pm.math.invlogit(a + (bp + bpC*d_aggregated['condition'])*d_aggregated['prosoc_left'] )\n",
    "    pulled_left = pm.Binomial('pulled_left', 18, p, observed=d_aggregated['pulled_left'])\n",
    "\n",
    "    trace_10_5 = pm.sample(2000)"
   ]
  },
  {
   "cell_type": "code",
   "execution_count": 56,
   "metadata": {
    "collapsed": false
   },
   "outputs": [
    {
     "data": {
      "text/html": [
       "<div>\n",
       "<table border=\"1\" class=\"dataframe\">\n",
       "  <thead>\n",
       "    <tr style=\"text-align: right;\">\n",
       "      <th></th>\n",
       "      <th>mean</th>\n",
       "      <th>sd</th>\n",
       "      <th>mc_error</th>\n",
       "      <th>hpd_2.5</th>\n",
       "      <th>hpd_97.5</th>\n",
       "    </tr>\n",
       "  </thead>\n",
       "  <tbody>\n",
       "    <tr>\n",
       "      <th>alpha</th>\n",
       "      <td>0.048120</td>\n",
       "      <td>0.125227</td>\n",
       "      <td>0.003422</td>\n",
       "      <td>-0.184947</td>\n",
       "      <td>0.305852</td>\n",
       "    </tr>\n",
       "    <tr>\n",
       "      <th>bp</th>\n",
       "      <td>0.608886</td>\n",
       "      <td>0.227793</td>\n",
       "      <td>0.007022</td>\n",
       "      <td>0.188566</td>\n",
       "      <td>1.084097</td>\n",
       "    </tr>\n",
       "    <tr>\n",
       "      <th>bpC</th>\n",
       "      <td>-0.099458</td>\n",
       "      <td>0.258715</td>\n",
       "      <td>0.006536</td>\n",
       "      <td>-0.590798</td>\n",
       "      <td>0.402101</td>\n",
       "    </tr>\n",
       "  </tbody>\n",
       "</table>\n",
       "</div>"
      ],
      "text/plain": [
       "           mean        sd  mc_error   hpd_2.5  hpd_97.5\n",
       "alpha  0.048120  0.125227  0.003422 -0.184947  0.305852\n",
       "bp     0.608886  0.227793  0.007022  0.188566  1.084097\n",
       "bpC   -0.099458  0.258715  0.006536 -0.590798  0.402101"
      ]
     },
     "execution_count": 56,
     "metadata": {},
     "output_type": "execute_result"
    }
   ],
   "source": [
    "pm.df_summary(trace_10_5)"
   ]
  },
  {
   "cell_type": "code",
   "execution_count": 66,
   "metadata": {
    "collapsed": false
   },
   "outputs": [
    {
     "data": {
      "text/plain": [
       "array([[ True,  True,  True,  True,  True],\n",
       "       [ True,  True,  True, False, False],\n",
       "       [ True,  True,  True, False,  True]], dtype=bool)"
      ]
     },
     "execution_count": 66,
     "metadata": {},
     "output_type": "execute_result"
    }
   ],
   "source": [
    "# hacky check of similarity to 10_3, within a hundreth\n",
    "np.isclose(pm.df_summary(trace_10_5), pm.df_summary(trace_10_3), atol=0.01)"
   ]
  },
  {
   "cell_type": "markdown",
   "metadata": {},
   "source": [
    "#### Code 10.22"
   ]
  },
  {
   "cell_type": "code",
   "execution_count": 111,
   "metadata": {
    "collapsed": false
   },
   "outputs": [
    {
     "data": {
      "text/html": [
       "<div>\n",
       "<table border=\"1\" class=\"dataframe\">\n",
       "  <thead>\n",
       "    <tr style=\"text-align: right;\">\n",
       "      <th></th>\n",
       "      <th>dept</th>\n",
       "      <th>applicant.gender</th>\n",
       "      <th>admit</th>\n",
       "      <th>reject</th>\n",
       "      <th>applications</th>\n",
       "    </tr>\n",
       "  </thead>\n",
       "  <tbody>\n",
       "    <tr>\n",
       "      <th>1</th>\n",
       "      <td>A</td>\n",
       "      <td>male</td>\n",
       "      <td>512</td>\n",
       "      <td>313</td>\n",
       "      <td>825</td>\n",
       "    </tr>\n",
       "    <tr>\n",
       "      <th>2</th>\n",
       "      <td>A</td>\n",
       "      <td>female</td>\n",
       "      <td>89</td>\n",
       "      <td>19</td>\n",
       "      <td>108</td>\n",
       "    </tr>\n",
       "    <tr>\n",
       "      <th>3</th>\n",
       "      <td>B</td>\n",
       "      <td>male</td>\n",
       "      <td>353</td>\n",
       "      <td>207</td>\n",
       "      <td>560</td>\n",
       "    </tr>\n",
       "    <tr>\n",
       "      <th>4</th>\n",
       "      <td>B</td>\n",
       "      <td>female</td>\n",
       "      <td>17</td>\n",
       "      <td>8</td>\n",
       "      <td>25</td>\n",
       "    </tr>\n",
       "    <tr>\n",
       "      <th>5</th>\n",
       "      <td>C</td>\n",
       "      <td>male</td>\n",
       "      <td>120</td>\n",
       "      <td>205</td>\n",
       "      <td>325</td>\n",
       "    </tr>\n",
       "    <tr>\n",
       "      <th>6</th>\n",
       "      <td>C</td>\n",
       "      <td>female</td>\n",
       "      <td>202</td>\n",
       "      <td>391</td>\n",
       "      <td>593</td>\n",
       "    </tr>\n",
       "    <tr>\n",
       "      <th>7</th>\n",
       "      <td>D</td>\n",
       "      <td>male</td>\n",
       "      <td>138</td>\n",
       "      <td>279</td>\n",
       "      <td>417</td>\n",
       "    </tr>\n",
       "    <tr>\n",
       "      <th>8</th>\n",
       "      <td>D</td>\n",
       "      <td>female</td>\n",
       "      <td>131</td>\n",
       "      <td>244</td>\n",
       "      <td>375</td>\n",
       "    </tr>\n",
       "    <tr>\n",
       "      <th>9</th>\n",
       "      <td>E</td>\n",
       "      <td>male</td>\n",
       "      <td>53</td>\n",
       "      <td>138</td>\n",
       "      <td>191</td>\n",
       "    </tr>\n",
       "    <tr>\n",
       "      <th>10</th>\n",
       "      <td>E</td>\n",
       "      <td>female</td>\n",
       "      <td>94</td>\n",
       "      <td>299</td>\n",
       "      <td>393</td>\n",
       "    </tr>\n",
       "    <tr>\n",
       "      <th>11</th>\n",
       "      <td>F</td>\n",
       "      <td>male</td>\n",
       "      <td>22</td>\n",
       "      <td>351</td>\n",
       "      <td>373</td>\n",
       "    </tr>\n",
       "    <tr>\n",
       "      <th>12</th>\n",
       "      <td>F</td>\n",
       "      <td>female</td>\n",
       "      <td>24</td>\n",
       "      <td>317</td>\n",
       "      <td>341</td>\n",
       "    </tr>\n",
       "  </tbody>\n",
       "</table>\n",
       "</div>"
      ],
      "text/plain": [
       "   dept applicant.gender  admit  reject  applications\n",
       "1     A             male    512     313           825\n",
       "2     A           female     89      19           108\n",
       "3     B             male    353     207           560\n",
       "4     B           female     17       8            25\n",
       "5     C             male    120     205           325\n",
       "6     C           female    202     391           593\n",
       "7     D             male    138     279           417\n",
       "8     D           female    131     244           375\n",
       "9     E             male     53     138           191\n",
       "10    E           female     94     299           393\n",
       "11    F             male     22     351           373\n",
       "12    F           female     24     317           341"
      ]
     },
     "execution_count": 111,
     "metadata": {},
     "output_type": "execute_result"
    }
   ],
   "source": [
    "d = pd.read_csv('./Data/UCBadmit.csv', sep=';')\n",
    "d"
   ]
  },
  {
   "cell_type": "markdown",
   "metadata": {},
   "source": [
    "#### Code 10.23"
   ]
  },
  {
   "cell_type": "code",
   "execution_count": 112,
   "metadata": {
    "collapsed": false
   },
   "outputs": [
    {
     "name": "stderr",
     "output_type": "stream",
     "text": [
      "Auto-assigning NUTS sampler...\n",
      "Initializing NUTS using advi...\n",
      "Average ELBO = -567.19:  11%|█▏        | 22858/200000 [00:02<00:19, 8868.68it/s]Median ELBO converged.\n",
      "Finished [100%]: Average ELBO = -471.22\n",
      "\n",
      "100%|██████████| 2000/2000 [00:01<00:00, 1141.61it/s]\n",
      "Auto-assigning NUTS sampler...\n",
      "Initializing NUTS using advi...\n",
      "  9%|▉         | 18605/200000 [00:01<00:13, 13384.42it/s]Median ELBO converged.\n",
      "Finished [100%]: Average ELBO = -550.88\n",
      "\n",
      "100%|██████████| 2000/2000 [00:01<00:00, 1817.33it/s]\n"
     ]
    }
   ],
   "source": [
    "d['male'] = (d['applicant.gender'] == 'male').astype(int)\n",
    "\n",
    "with pm.Model() as model_10_6:\n",
    "    a = pm.Normal('a', 0, 10)\n",
    "    bm = pm.Normal('bm', 0, 10)\n",
    "    p = pm.math.invlogit(a + bm*d['male'])\n",
    "    admit = pm.Binomial('admit', p=p, n=d['applications'], observed=d['admit'])\n",
    "    \n",
    "    trace_10_6 = pm.sample(2000)\n",
    "    \n",
    "with pm.Model() as model_10_7:\n",
    "    a = pm.Normal('a', 0, 10)\n",
    "    p = pm.math.invlogit(a)\n",
    "    admit = pm.Binomial('admit', p=p, n=d['applications'], observed=d['admit'])\n",
    "    \n",
    "    trace_10_7 = pm.sample(2000)"
   ]
  },
  {
   "cell_type": "markdown",
   "metadata": {},
   "source": [
    "#### Code 10.24"
   ]
  },
  {
   "cell_type": "code",
   "execution_count": 113,
   "metadata": {
    "collapsed": false
   },
   "outputs": [
    {
     "data": {
      "text/html": [
       "<div>\n",
       "<table border=\"1\" class=\"dataframe\">\n",
       "  <thead>\n",
       "    <tr style=\"text-align: right;\">\n",
       "      <th></th>\n",
       "      <th>WAIC</th>\n",
       "      <th>pWAIC</th>\n",
       "      <th>dWAIC</th>\n",
       "      <th>weight</th>\n",
       "      <th>SE</th>\n",
       "      <th>dSE</th>\n",
       "      <th>warning</th>\n",
       "    </tr>\n",
       "  </thead>\n",
       "  <tbody>\n",
       "    <tr>\n",
       "      <th>0</th>\n",
       "      <td>999.389</td>\n",
       "      <td>116.887</td>\n",
       "      <td>0</td>\n",
       "      <td>1</td>\n",
       "      <td>313.577</td>\n",
       "      <td>0</td>\n",
       "      <td>1</td>\n",
       "    </tr>\n",
       "    <tr>\n",
       "      <th>1</th>\n",
       "      <td>1050.2</td>\n",
       "      <td>85.9792</td>\n",
       "      <td>50.8065</td>\n",
       "      <td>9.27939e-12</td>\n",
       "      <td>315.252</td>\n",
       "      <td>6960.89</td>\n",
       "      <td>1</td>\n",
       "    </tr>\n",
       "  </tbody>\n",
       "</table>\n",
       "</div>"
      ],
      "text/plain": [
       "      WAIC    pWAIC    dWAIC       weight       SE      dSE warning\n",
       "0  999.389  116.887        0            1  313.577        0       1\n",
       "1   1050.2  85.9792  50.8065  9.27939e-12  315.252  6960.89       1"
      ]
     },
     "execution_count": 113,
     "metadata": {},
     "output_type": "execute_result"
    }
   ],
   "source": [
    "# Something goofy here... \n",
    "# not even close to WAIC values, larger standard error\n",
    "\n",
    "comp_df = pm.compare(traces=[trace_10_6, trace_10_7], models=[model_10_6, model_10_7])\n",
    "comp_df"
   ]
  },
  {
   "cell_type": "markdown",
   "metadata": {},
   "source": [
    "#### Code 10.25"
   ]
  },
  {
   "cell_type": "code",
   "execution_count": 114,
   "metadata": {
    "collapsed": false
   },
   "outputs": [
    {
     "data": {
      "text/html": [
       "<div>\n",
       "<table border=\"1\" class=\"dataframe\">\n",
       "  <thead>\n",
       "    <tr style=\"text-align: right;\">\n",
       "      <th></th>\n",
       "      <th>mean</th>\n",
       "      <th>sd</th>\n",
       "      <th>mc_error</th>\n",
       "      <th>hpd_2.5</th>\n",
       "      <th>hpd_97.5</th>\n",
       "    </tr>\n",
       "  </thead>\n",
       "  <tbody>\n",
       "    <tr>\n",
       "      <th>a</th>\n",
       "      <td>-0.829425</td>\n",
       "      <td>0.050692</td>\n",
       "      <td>0.002178</td>\n",
       "      <td>-0.926685</td>\n",
       "      <td>-0.727450</td>\n",
       "    </tr>\n",
       "    <tr>\n",
       "      <th>bm</th>\n",
       "      <td>0.608281</td>\n",
       "      <td>0.064709</td>\n",
       "      <td>0.002673</td>\n",
       "      <td>0.491683</td>\n",
       "      <td>0.745926</td>\n",
       "    </tr>\n",
       "  </tbody>\n",
       "</table>\n",
       "</div>"
      ],
      "text/plain": [
       "        mean        sd  mc_error   hpd_2.5  hpd_97.5\n",
       "a  -0.829425  0.050692  0.002178 -0.926685 -0.727450\n",
       "bm  0.608281  0.064709  0.002673  0.491683  0.745926"
      ]
     },
     "execution_count": 114,
     "metadata": {},
     "output_type": "execute_result"
    }
   ],
   "source": [
    "pm.df_summary(trace_10_6)"
   ]
  },
  {
   "cell_type": "markdown",
   "metadata": {},
   "source": [
    "#### Code 10.26"
   ]
  },
  {
   "cell_type": "code",
   "execution_count": 115,
   "metadata": {
    "collapsed": false
   },
   "outputs": [
    {
     "data": {
      "text/plain": [
       "count    2000.000000\n",
       "mean        0.141086\n",
       "std         0.014589\n",
       "min         0.088012\n",
       "2.5%        0.112336\n",
       "50%         0.140841\n",
       "97.5%       0.170341\n",
       "max         0.189403\n",
       "dtype: float64"
      ]
     },
     "execution_count": 115,
     "metadata": {},
     "output_type": "execute_result"
    }
   ],
   "source": [
    "post = pm.trace_to_dataframe(trace_10_6)\n",
    "p_admit_male = expit(post['a'] + post['bm'])\n",
    "p_admit_female = expit(post['a'])\n",
    "diff_admit = p_admit_male - p_admit_female\n",
    "diff_admit.describe(percentiles=[.025, .5, .975])"
   ]
  },
  {
   "cell_type": "markdown",
   "metadata": {},
   "source": [
    "#### Code 10.27"
   ]
  },
  {
   "cell_type": "code",
   "execution_count": 116,
   "metadata": {
    "collapsed": true
   },
   "outputs": [],
   "source": [
    "# Posterior Predictive Check Plotting"
   ]
  },
  {
   "cell_type": "markdown",
   "metadata": {},
   "source": [
    "#### Code 10.28"
   ]
  },
  {
   "cell_type": "code",
   "execution_count": 117,
   "metadata": {
    "collapsed": false
   },
   "outputs": [
    {
     "name": "stdout",
     "output_type": "stream",
     "text": [
      "A 0\n",
      "B 1\n",
      "C 2\n",
      "D 3\n",
      "E 4\n",
      "F 5\n"
     ]
    }
   ],
   "source": [
    "depts = d['dept'].unique()\n",
    "dept_index = dict(zip(depts, range(len(depts))))\n",
    "d['dept_id'] = d['dept'].map(dept_index)\n",
    "for dept in dept_index:\n",
    "    print(dept, dept_index[dept])"
   ]
  },
  {
   "cell_type": "markdown",
   "metadata": {},
   "source": [
    "⚠️ Note when doing this index mapping, you need to append `.values` to the indexed values in the model, otherwise you'll get:\n",
    "\n",
    "```\n",
    "TypeError: invalid type comparison```"
   ]
  },
  {
   "cell_type": "code",
   "execution_count": 118,
   "metadata": {
    "collapsed": false
   },
   "outputs": [
    {
     "name": "stderr",
     "output_type": "stream",
     "text": [
      "Auto-assigning NUTS sampler...\n",
      "Initializing NUTS using advi...\n",
      "Average ELBO = -73.901: 100%|██████████| 200000/200000 [00:19<00:00, 10273.17it/s]\n",
      "Finished [100%]: Average ELBO = -73.89\n",
      "100%|██████████| 2000/2000 [00:02<00:00, 809.76it/s] \n",
      "Auto-assigning NUTS sampler...\n",
      "Initializing NUTS using advi...\n",
      "Average ELBO = -78.587: 100%|██████████| 200000/200000 [00:25<00:00, 7806.55it/s]\n",
      "Finished [100%]: Average ELBO = -78.583\n",
      "100%|██████████| 2000/2000 [00:02<00:00, 803.24it/s]\n"
     ]
    }
   ],
   "source": [
    "with pm.Model() as model_10_8:\n",
    "    a = pm.Normal('a', 0, 10, shape=len(depts))\n",
    "    p = pm.math.invlogit(a[d['dept_id'].values])\n",
    "    admit = pm.Binomial('admit', p=p, n=d['applications'], observed=d['admit'])\n",
    "    \n",
    "    trace_10_8 = pm.sample(2000)\n",
    "\n",
    "with pm.Model() as model_10_9:\n",
    "    a = pm.Normal('a', 0, 10, shape=len(depts))\n",
    "    bm = pm.Normal('bm', 0, 10)\n",
    "    p = pm.math.invlogit(a[d['dept_id'].values] + bm*d['male'])\n",
    "    admit = pm.Binomial('admit', p=p, n=d['applications'], observed=d['admit'])\n",
    "    \n",
    "    trace_10_9 = pm.sample(2000)"
   ]
  },
  {
   "cell_type": "markdown",
   "metadata": {},
   "source": [
    "#### Code 10.29"
   ]
  },
  {
   "cell_type": "code",
   "execution_count": 120,
   "metadata": {
    "collapsed": false
   },
   "outputs": [
    {
     "data": {
      "text/html": [
       "<div>\n",
       "<table border=\"1\" class=\"dataframe\">\n",
       "  <thead>\n",
       "    <tr style=\"text-align: right;\">\n",
       "      <th></th>\n",
       "      <th>WAIC</th>\n",
       "      <th>pWAIC</th>\n",
       "      <th>dWAIC</th>\n",
       "      <th>weight</th>\n",
       "      <th>SE</th>\n",
       "      <th>dSE</th>\n",
       "      <th>warning</th>\n",
       "    </tr>\n",
       "  </thead>\n",
       "  <tbody>\n",
       "    <tr>\n",
       "      <th>2</th>\n",
       "      <td>104.623</td>\n",
       "      <td>6.29143</td>\n",
       "      <td>0</td>\n",
       "      <td>0.895297</td>\n",
       "      <td>16.9033</td>\n",
       "      <td>0</td>\n",
       "      <td>1</td>\n",
       "    </tr>\n",
       "    <tr>\n",
       "      <th>3</th>\n",
       "      <td>108.915</td>\n",
       "      <td>9.6184</td>\n",
       "      <td>4.29206</td>\n",
       "      <td>0.104703</td>\n",
       "      <td>15.7389</td>\n",
       "      <td>3.35732</td>\n",
       "      <td>1</td>\n",
       "    </tr>\n",
       "    <tr>\n",
       "      <th>0</th>\n",
       "      <td>999.389</td>\n",
       "      <td>116.887</td>\n",
       "      <td>894.766</td>\n",
       "      <td>4.52953e-195</td>\n",
       "      <td>313.577</td>\n",
       "      <td>27831.2</td>\n",
       "      <td>1</td>\n",
       "    </tr>\n",
       "    <tr>\n",
       "      <th>1</th>\n",
       "      <td>1050.2</td>\n",
       "      <td>85.9792</td>\n",
       "      <td>945.572</td>\n",
       "      <td>4.20313e-206</td>\n",
       "      <td>315.252</td>\n",
       "      <td>28255</td>\n",
       "      <td>1</td>\n",
       "    </tr>\n",
       "  </tbody>\n",
       "</table>\n",
       "</div>"
      ],
      "text/plain": [
       "      WAIC    pWAIC    dWAIC        weight       SE      dSE warning\n",
       "2  104.623  6.29143        0      0.895297  16.9033        0       1\n",
       "3  108.915   9.6184  4.29206      0.104703  15.7389  3.35732       1\n",
       "0  999.389  116.887  894.766  4.52953e-195  313.577  27831.2       1\n",
       "1   1050.2  85.9792  945.572  4.20313e-206  315.252    28255       1"
      ]
     },
     "execution_count": 120,
     "metadata": {},
     "output_type": "execute_result"
    }
   ],
   "source": [
    "# WAIC values still off\n",
    "# Plus warning flag\n",
    "\n",
    "comp_df = pm.compare(traces=[trace_10_6, trace_10_7, trace_10_8, trace_10_9], models=[model_10_6, model_10_7, model_10_8, model_10_9])\n",
    "comp_df"
   ]
  },
  {
   "cell_type": "markdown",
   "metadata": {},
   "source": [
    "#### Code 10.30"
   ]
  },
  {
   "cell_type": "code",
   "execution_count": 121,
   "metadata": {
    "collapsed": false
   },
   "outputs": [
    {
     "data": {
      "text/html": [
       "<div>\n",
       "<table border=\"1\" class=\"dataframe\">\n",
       "  <thead>\n",
       "    <tr style=\"text-align: right;\">\n",
       "      <th></th>\n",
       "      <th>mean</th>\n",
       "      <th>sd</th>\n",
       "      <th>mc_error</th>\n",
       "      <th>hpd_2.5</th>\n",
       "      <th>hpd_97.5</th>\n",
       "    </tr>\n",
       "  </thead>\n",
       "  <tbody>\n",
       "    <tr>\n",
       "      <th>a__0</th>\n",
       "      <td>0.68</td>\n",
       "      <td>0.10</td>\n",
       "      <td>0.0</td>\n",
       "      <td>0.49</td>\n",
       "      <td>0.87</td>\n",
       "    </tr>\n",
       "    <tr>\n",
       "      <th>a__1</th>\n",
       "      <td>0.64</td>\n",
       "      <td>0.12</td>\n",
       "      <td>0.0</td>\n",
       "      <td>0.40</td>\n",
       "      <td>0.85</td>\n",
       "    </tr>\n",
       "    <tr>\n",
       "      <th>a__2</th>\n",
       "      <td>-0.58</td>\n",
       "      <td>0.08</td>\n",
       "      <td>0.0</td>\n",
       "      <td>-0.74</td>\n",
       "      <td>-0.43</td>\n",
       "    </tr>\n",
       "    <tr>\n",
       "      <th>a__3</th>\n",
       "      <td>-0.62</td>\n",
       "      <td>0.09</td>\n",
       "      <td>0.0</td>\n",
       "      <td>-0.78</td>\n",
       "      <td>-0.45</td>\n",
       "    </tr>\n",
       "    <tr>\n",
       "      <th>a__4</th>\n",
       "      <td>-1.06</td>\n",
       "      <td>0.10</td>\n",
       "      <td>0.0</td>\n",
       "      <td>-1.26</td>\n",
       "      <td>-0.87</td>\n",
       "    </tr>\n",
       "    <tr>\n",
       "      <th>a__5</th>\n",
       "      <td>-2.63</td>\n",
       "      <td>0.16</td>\n",
       "      <td>0.0</td>\n",
       "      <td>-2.96</td>\n",
       "      <td>-2.35</td>\n",
       "    </tr>\n",
       "    <tr>\n",
       "      <th>bm</th>\n",
       "      <td>-0.10</td>\n",
       "      <td>0.08</td>\n",
       "      <td>0.0</td>\n",
       "      <td>-0.26</td>\n",
       "      <td>0.06</td>\n",
       "    </tr>\n",
       "  </tbody>\n",
       "</table>\n",
       "</div>"
      ],
      "text/plain": [
       "      mean    sd  mc_error  hpd_2.5  hpd_97.5\n",
       "a__0  0.68  0.10       0.0     0.49      0.87\n",
       "a__1  0.64  0.12       0.0     0.40      0.85\n",
       "a__2 -0.58  0.08       0.0    -0.74     -0.43\n",
       "a__3 -0.62  0.09       0.0    -0.78     -0.45\n",
       "a__4 -1.06  0.10       0.0    -1.26     -0.87\n",
       "a__5 -2.63  0.16       0.0    -2.96     -2.35\n",
       "bm   -0.10  0.08       0.0    -0.26      0.06"
      ]
     },
     "execution_count": 121,
     "metadata": {},
     "output_type": "execute_result"
    }
   ],
   "source": [
    "pm.df_summary(trace_10_9).round(2)"
   ]
  },
  {
   "cell_type": "markdown",
   "metadata": {},
   "source": [
    "#### Code 10.31\n",
    "Replicated model above but with MCMC in book."
   ]
  },
  {
   "cell_type": "code",
   "execution_count": null,
   "metadata": {
    "collapsed": true
   },
   "outputs": [],
   "source": []
  }
 ],
 "metadata": {
  "kernelspec": {
   "display_name": "Python [pymc]",
   "language": "python",
   "name": "Python [pymc]"
  },
  "language_info": {
   "codemirror_mode": {
    "name": "ipython",
    "version": 3
   },
   "file_extension": ".py",
   "mimetype": "text/x-python",
   "name": "python",
   "nbconvert_exporter": "python",
   "pygments_lexer": "ipython3",
   "version": "3.6.1"
  }
 },
 "nbformat": 4,
 "nbformat_minor": 0
}
